{
 "cells": [
  {
   "cell_type": "code",
   "execution_count": 2,
   "id": "6973c592-72a2-4156-b6dd-6bf051433271",
   "metadata": {},
   "outputs": [],
   "source": [
    "import pandas as pd\n",
    "from selenium.webdriver import Chrome\n",
    "from selenium.webdriver.common.by import By"
   ]
  },
  {
   "cell_type": "code",
   "execution_count": 28,
   "id": "e98cb12b-9da1-405f-8d5e-18ea290e0048",
   "metadata": {},
   "outputs": [],
   "source": [
    "driver = Chrome()"
   ]
  },
  {
   "cell_type": "code",
   "execution_count": 29,
   "id": "5a4e6230-3496-40cf-bb04-c012dcb0884a",
   "metadata": {},
   "outputs": [],
   "source": [
    "driver.get(\"https://books.toscrape.com/\")"
   ]
  },
  {
   "cell_type": "code",
   "execution_count": 30,
   "id": "21a6d821-6d73-4af3-856a-d4bd558ab01c",
   "metadata": {},
   "outputs": [],
   "source": [
    "li_elements = driver.find_elements(By.CSS_SELECTOR, \"ul ul li\")"
   ]
  },
  {
   "cell_type": "code",
   "execution_count": 31,
   "id": "e32e605c-1dc6-4697-97df-2a6905b9ea48",
   "metadata": {},
   "outputs": [
    {
     "data": {
      "text/plain": [
       "50"
      ]
     },
     "execution_count": 31,
     "metadata": {},
     "output_type": "execute_result"
    }
   ],
   "source": [
    "len(li_elements)"
   ]
  },
  {
   "cell_type": "code",
   "execution_count": 32,
   "id": "1562771b-1fb6-454d-90eb-d0b683767698",
   "metadata": {},
   "outputs": [],
   "source": [
    "li_elements = li_elements[:5]"
   ]
  },
  {
   "cell_type": "code",
   "execution_count": 33,
   "id": "4e34c310-f78c-41a3-ad05-f309b375c1ed",
   "metadata": {},
   "outputs": [],
   "source": [
    "category_links = {}\n",
    "for li in li_elements:\n",
    "    href = li.find_element(By.CSS_SELECTOR, \"a\")\n",
    "    category = li.text\n",
    "    category_links[category] = href"
   ]
  },
  {
   "cell_type": "code",
   "execution_count": 18,
   "id": "89964685-5c6a-41a3-aa04-9c9f4980ca47",
   "metadata": {},
   "outputs": [
    {
     "data": {
      "text/plain": [
       "{'Travel': 'https://books.toscrape.com/catalogue/category/books/travel_2/index.html',\n",
       " 'Mystery': 'https://books.toscrape.com/catalogue/category/books/mystery_3/index.html',\n",
       " 'Historical Fiction': 'https://books.toscrape.com/catalogue/category/books/historical-fiction_4/index.html',\n",
       " 'Sequential Art': 'https://books.toscrape.com/catalogue/category/books/sequential-art_5/index.html',\n",
       " 'Classics': 'https://books.toscrape.com/catalogue/category/books/classics_6/index.html'}"
      ]
     },
     "execution_count": 18,
     "metadata": {},
     "output_type": "execute_result"
    }
   ],
   "source": [
    "category_links"
   ]
  },
  {
   "cell_type": "code",
   "execution_count": 37,
   "id": "6e7ec70c-11d3-4cea-94ec-abbd7cd916c6",
   "metadata": {},
   "outputs": [],
   "source": [
    "final = {}\n",
    "for cat in category_links.keys():\n",
    "    link = category_links[cat]\n",
    "    link.click\n",
    "    product_pod = driver.find_element(By.CLASS_NAME, \"product_pod\")\n",
    "    book_anchors = driver.find_elements(By.CSS_SELECTOR, \"h3 a\")[:4]\n",
    "    book_titles = [book.get_attribute(\"title\") for book in book_anchors]\n",
    "    final[cat] = book_titles\n"
   ]
  },
  {
   "cell_type": "code",
   "execution_count": 38,
   "id": "fa935a35-3e03-49f7-9a1f-acc812f0c1f4",
   "metadata": {},
   "outputs": [
    {
     "data": {
      "text/plain": [
       "{'Travel': [\"It's Only the Himalayas\",\n",
       "  'Full Moon over Noah’s Ark: An Odyssey to Mount Ararat and Beyond',\n",
       "  'See America: A Celebration of Our National Parks & Treasured Sites',\n",
       "  'Vagabonding: An Uncommon Guide to the Art of Long-Term World Travel'],\n",
       " 'Mystery': [\"It's Only the Himalayas\",\n",
       "  'Full Moon over Noah’s Ark: An Odyssey to Mount Ararat and Beyond',\n",
       "  'See America: A Celebration of Our National Parks & Treasured Sites',\n",
       "  'Vagabonding: An Uncommon Guide to the Art of Long-Term World Travel'],\n",
       " 'Historical Fiction': [\"It's Only the Himalayas\",\n",
       "  'Full Moon over Noah’s Ark: An Odyssey to Mount Ararat and Beyond',\n",
       "  'See America: A Celebration of Our National Parks & Treasured Sites',\n",
       "  'Vagabonding: An Uncommon Guide to the Art of Long-Term World Travel'],\n",
       " 'Sequential Art': [\"It's Only the Himalayas\",\n",
       "  'Full Moon over Noah’s Ark: An Odyssey to Mount Ararat and Beyond',\n",
       "  'See America: A Celebration of Our National Parks & Treasured Sites',\n",
       "  'Vagabonding: An Uncommon Guide to the Art of Long-Term World Travel'],\n",
       " 'Classics': [\"It's Only the Himalayas\",\n",
       "  'Full Moon over Noah’s Ark: An Odyssey to Mount Ararat and Beyond',\n",
       "  'See America: A Celebration of Our National Parks & Treasured Sites',\n",
       "  'Vagabonding: An Uncommon Guide to the Art of Long-Term World Travel']}"
      ]
     },
     "execution_count": 38,
     "metadata": {},
     "output_type": "execute_result"
    }
   ],
   "source": [
    "final"
   ]
  },
  {
   "cell_type": "code",
   "execution_count": null,
   "id": "8f0e12a8-a02c-44b6-b685-0d1c5b7ff0dc",
   "metadata": {},
   "outputs": [],
   "source": []
  }
 ],
 "metadata": {
  "kernelspec": {
   "display_name": "vnp-24-25",
   "language": "python",
   "name": "vnp-24-25"
  },
  "language_info": {
   "codemirror_mode": {
    "name": "ipython",
    "version": 3
   },
   "file_extension": ".py",
   "mimetype": "text/x-python",
   "name": "python",
   "nbconvert_exporter": "python",
   "pygments_lexer": "ipython3",
   "version": "3.10.10"
  }
 },
 "nbformat": 4,
 "nbformat_minor": 5
}
